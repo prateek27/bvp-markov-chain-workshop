{
 "cells": [
  {
   "cell_type": "code",
   "execution_count": 126,
   "metadata": {},
   "outputs": [],
   "source": [
    "with open(\"code.txt\") as f:\n",
    "    data = f.read()\n",
    "    "
   ]
  },
  {
   "cell_type": "code",
   "execution_count": 127,
   "metadata": {},
   "outputs": [
    {
     "name": "stdout",
     "output_type": "stream",
     "text": [
      "import numpy as np\n",
      "import cv2\n",
      "import os\n",
      "\n",
      "image_x = 200\n",
      "image_y = 100\n",
      "image_w = 200\n",
      "image_h = 200\n",
      "pic\n"
     ]
    }
   ],
   "source": [
    "data = data.lower()\n",
    "print(data[:100])"
   ]
  },
  {
   "cell_type": "code",
   "execution_count": 128,
   "metadata": {},
   "outputs": [],
   "source": [
    "def getTable(data):\n",
    "    k = 4\n",
    "    T= {}\n",
    "    for i in range(len(data)-k):\n",
    "        X = data[i:i+k]\n",
    "        Y = data[i+k]\n",
    "        #print(X,Y)\n",
    "        \n",
    "        if T.get(X) is None:\n",
    "            T[X] = {}\n",
    "            T[X][Y] = 1\n",
    "        else:\n",
    "            if T[X].get(Y) is None:\n",
    "                T[X][Y] = 1\n",
    "            else:\n",
    "                T[X][Y] += 1\n",
    "                \n",
    "    for ky in T:\n",
    "        s = sum(list(T[ky].values()))\n",
    "        #print(s)\n",
    "            \n",
    "        for kx in T[ky].keys():\n",
    "            T[ky][kx] /= s\n",
    "        \n",
    "                \n",
    "    return T\n",
    "    "
   ]
  },
  {
   "cell_type": "code",
   "execution_count": 129,
   "metadata": {},
   "outputs": [],
   "source": [
    "T = getTable(data)\n",
    "#print(T)"
   ]
  },
  {
   "cell_type": "code",
   "execution_count": 130,
   "metadata": {},
   "outputs": [],
   "source": [
    "def get_next_char(data,k=4):\n",
    "    \n",
    "    ctx = data[-k:]\n",
    "    \n",
    "    possible = T.get(ctx)\n",
    "    if possible is None:\n",
    "        return \" \"\n",
    "    \n",
    "    chars = list(possible.keys())\n",
    "    values = list(possible.values())\n",
    "    #print(chars)\n",
    "    #print(values)\n",
    "    \n",
    "    return np.random.choice(chars,p=values)\n",
    "    "
   ]
  },
  {
   "cell_type": "code",
   "execution_count": 131,
   "metadata": {},
   "outputs": [
    {
     "data": {
      "text/plain": [
       "' '"
      ]
     },
     "execution_count": 131,
     "metadata": {},
     "output_type": "execute_result"
    }
   ],
   "source": [
    "get_next_char(\"hell\")"
   ]
  },
  {
   "cell_type": "code",
   "execution_count": 132,
   "metadata": {},
   "outputs": [
    {
     "data": {
      "text/plain": [
       "'fruit = [\"apple\",\"mango\"]\\nprob = [.8,0.2]\\n\\nfor i in range(10):\\n    print(np.random.choice(fruit,p=prob))'"
      ]
     },
     "execution_count": 132,
     "metadata": {},
     "output_type": "execute_result"
    }
   ],
   "source": [
    "\"\"\"fruit = [\"apple\",\"mango\"]\n",
    "prob = [.8,0.2]\n",
    "\n",
    "for i in range(10):\n",
    "    print(np.random.choice(fruit,p=prob))\"\"\""
   ]
  },
  {
   "cell_type": "code",
   "execution_count": 133,
   "metadata": {},
   "outputs": [],
   "source": [
    "def generateSentence(starting_sen,length=1000):\n",
    "    k = 4\n",
    "    output = starting_sen\n",
    "    for i in range(length):\n",
    "        ctx   = output[-k:]\n",
    "        pred_c = get_next_char(ctx)\n",
    "        output += pred_c\n",
    "        \n",
    "    return output"
   ]
  },
  {
   "cell_type": "code",
   "execution_count": 137,
   "metadata": {},
   "outputs": [
    {
     "name": "stdout",
     "output_type": "stream",
     "text": [
      "import cv2\n",
      "import numpy as np\n",
      "import os\n",
      "\n",
      "image_w = 200\n",
      "image_h = 200\n",
      "image_y+image_x:image\", frame, 1)\n",
      "\tcv2.cvtcolor_bgr2gray)\n",
      "\tblur(blur(hand, (11,11), 0))\n",
      "\n",
      "\tif keypress = cv2.thresh_binary+cv2.medianblur, 15)\n",
      "\tthresh)\n",
      "\n",
      "\t\t\n",
      "\n",
      "                                                                                                                                                                                                                                                                                                                                                                                                                                                                                                                                                                                                                                                                                                                                                                                                             \n"
     ]
    }
   ],
   "source": [
    "print(generateSentence(\"import\"))"
   ]
  },
  {
   "cell_type": "code",
   "execution_count": null,
   "metadata": {},
   "outputs": [],
   "source": []
  }
 ],
 "metadata": {
  "kernelspec": {
   "display_name": "Python 3",
   "language": "python",
   "name": "python3"
  },
  "language_info": {
   "codemirror_mode": {
    "name": "ipython",
    "version": 3
   },
   "file_extension": ".py",
   "mimetype": "text/x-python",
   "name": "python",
   "nbconvert_exporter": "python",
   "pygments_lexer": "ipython3",
   "version": "3.6.1"
  }
 },
 "nbformat": 4,
 "nbformat_minor": 2
}
